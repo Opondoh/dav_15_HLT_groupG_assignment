{
 "cells": [
  {
   "cell_type": "markdown",
   "metadata": {
    "colab_type": "text",
    "id": "sASdreZ2AK4r"
   },
   "source": [
    "# <font color='maroon'>Assessment</font>\n",
    "Given the following dataset, answer the questions that follow. The necessary libraries have been imported.\n"
   ]
  },
  {
   "cell_type": "code",
   "execution_count": 1,
   "metadata": {
    "colab": {},
    "colab_type": "code",
    "id": "-hfGUi4yAK4z"
   },
   "outputs": [],
   "source": [
    "import matplotlib.pyplot as plt\n",
    "import numpy as np\n",
    "from numpy import arange\n",
    "import scipy.stats as stats\n",
    "import pandas as pd\n",
    "import seaborn as sns\n",
    "import random as rnd"
   ]
  },
  {
   "cell_type": "code",
   "execution_count": 2,
   "metadata": {
    "colab": {},
    "colab_type": "code",
    "id": "4kZ-Kh9EAK5K"
   },
   "outputs": [],
   "source": [
    "%matplotlib inline"
   ]
  },
  {
   "cell_type": "code",
   "execution_count": 3,
   "metadata": {},
   "outputs": [
    {
     "name": "stdout",
     "output_type": "stream",
     "text": [
      "Note: you may need to restart the kernel to use updated packages.\n"
     ]
    }
   ],
   "source": [
    "pip freeze > requirement.txt"
   ]
  },
  {
   "cell_type": "code",
   "execution_count": 4,
   "metadata": {
    "colab": {},
    "colab_type": "code",
    "id": "Nn77q-wgAK5d"
   },
   "outputs": [],
   "source": [
    "data = pd.read_csv('athletes_.csv', sep=',', low_memory=False)"
   ]
  },
  {
   "cell_type": "markdown",
   "metadata": {
    "colab_type": "text",
    "id": "D1lo8v1zAK6C"
   },
   "source": [
    "### Question 1\n",
    "Study the data. What is the size of the dataset?"
   ]
  },
  {
   "cell_type": "code",
   "execution_count": 6,
   "metadata": {},
   "outputs": [
    {
     "data": {
      "text/plain": [
       "11844168"
      ]
     },
     "execution_count": 6,
     "metadata": {},
     "output_type": "execute_result"
    }
   ],
   "source": [
    "#Return an int representing the number of elements in this object.\n",
    "data.size"
   ]
  },
  {
   "cell_type": "markdown",
   "metadata": {
    "colab_type": "text",
    "id": "ti3Di6QjAK6m"
   },
   "source": [
    "#### Question 1.1\n",
    "Generate summary statistics of the data."
   ]
  },
  {
   "cell_type": "code",
   "execution_count": 7,
   "metadata": {},
   "outputs": [
    {
     "data": {
      "text/html": [
       "<div>\n",
       "<style scoped>\n",
       "    .dataframe tbody tr th:only-of-type {\n",
       "        vertical-align: middle;\n",
       "    }\n",
       "\n",
       "    .dataframe tbody tr th {\n",
       "        vertical-align: top;\n",
       "    }\n",
       "\n",
       "    .dataframe thead th {\n",
       "        text-align: right;\n",
       "    }\n",
       "</style>\n",
       "<table border=\"1\" class=\"dataframe\">\n",
       "  <thead>\n",
       "    <tr style=\"text-align: right;\">\n",
       "      <th></th>\n",
       "      <th>athlete_id</th>\n",
       "      <th>age</th>\n",
       "      <th>height</th>\n",
       "      <th>weight</th>\n",
       "      <th>fran</th>\n",
       "      <th>helen</th>\n",
       "      <th>grace</th>\n",
       "      <th>filthy50</th>\n",
       "      <th>fgonebad</th>\n",
       "      <th>run400</th>\n",
       "      <th>run5k</th>\n",
       "      <th>candj</th>\n",
       "      <th>snatch</th>\n",
       "      <th>deadlift</th>\n",
       "      <th>backsq</th>\n",
       "      <th>pullups</th>\n",
       "    </tr>\n",
       "  </thead>\n",
       "  <tbody>\n",
       "    <tr>\n",
       "      <td>count</td>\n",
       "      <td>423003.000000</td>\n",
       "      <td>331110.000000</td>\n",
       "      <td>1.598690e+05</td>\n",
       "      <td>229890.000000</td>\n",
       "      <td>5.542600e+04</td>\n",
       "      <td>3.027900e+04</td>\n",
       "      <td>4.074500e+04</td>\n",
       "      <td>1.935900e+04</td>\n",
       "      <td>2.973800e+04</td>\n",
       "      <td>2.224600e+04</td>\n",
       "      <td>3.609700e+04</td>\n",
       "      <td>1.044350e+05</td>\n",
       "      <td>9.728000e+04</td>\n",
       "      <td>1.153230e+05</td>\n",
       "      <td>1.105170e+05</td>\n",
       "      <td>5.060800e+04</td>\n",
       "    </tr>\n",
       "    <tr>\n",
       "      <td>mean</td>\n",
       "      <td>292748.166538</td>\n",
       "      <td>32.516750</td>\n",
       "      <td>1.206217e+02</td>\n",
       "      <td>170.896137</td>\n",
       "      <td>9.886691e+02</td>\n",
       "      <td>1.207950e+03</td>\n",
       "      <td>5.766025e+02</td>\n",
       "      <td>2.127863e+03</td>\n",
       "      <td>1.472252e+03</td>\n",
       "      <td>5.241279e+02</td>\n",
       "      <td>3.411464e+03</td>\n",
       "      <td>2.709107e+02</td>\n",
       "      <td>2.424957e+02</td>\n",
       "      <td>6.970503e+02</td>\n",
       "      <td>5.852109e+02</td>\n",
       "      <td>4.269613e+04</td>\n",
       "    </tr>\n",
       "    <tr>\n",
       "      <td>std</td>\n",
       "      <td>184969.660327</td>\n",
       "      <td>7.730671</td>\n",
       "      <td>2.097995e+04</td>\n",
       "      <td>58.379799</td>\n",
       "      <td>7.200430e+04</td>\n",
       "      <td>6.824091e+04</td>\n",
       "      <td>4.891145e+04</td>\n",
       "      <td>6.055021e+04</td>\n",
       "      <td>9.762688e+04</td>\n",
       "      <td>5.628804e+04</td>\n",
       "      <td>1.251980e+05</td>\n",
       "      <td>2.596882e+04</td>\n",
       "      <td>2.708942e+04</td>\n",
       "      <td>5.523235e+04</td>\n",
       "      <td>5.052976e+04</td>\n",
       "      <td>9.546078e+06</td>\n",
       "    </tr>\n",
       "    <tr>\n",
       "      <td>min</td>\n",
       "      <td>82.000000</td>\n",
       "      <td>13.000000</td>\n",
       "      <td>0.000000e+00</td>\n",
       "      <td>1.000000</td>\n",
       "      <td>1.000000e+00</td>\n",
       "      <td>1.000000e+00</td>\n",
       "      <td>-6.000000e+01</td>\n",
       "      <td>1.000000e+00</td>\n",
       "      <td>0.000000e+00</td>\n",
       "      <td>1.000000e+00</td>\n",
       "      <td>1.000000e+00</td>\n",
       "      <td>-4.500000e+01</td>\n",
       "      <td>0.000000e+00</td>\n",
       "      <td>-5.000000e+02</td>\n",
       "      <td>-7.000000e+00</td>\n",
       "      <td>-6.000000e+00</td>\n",
       "    </tr>\n",
       "    <tr>\n",
       "      <td>25%</td>\n",
       "      <td>135091.500000</td>\n",
       "      <td>27.000000</td>\n",
       "      <td>6.600000e+01</td>\n",
       "      <td>145.000000</td>\n",
       "      <td>2.150000e+02</td>\n",
       "      <td>5.250000e+02</td>\n",
       "      <td>1.490000e+02</td>\n",
       "      <td>1.308000e+03</td>\n",
       "      <td>2.400000e+02</td>\n",
       "      <td>6.200000e+01</td>\n",
       "      <td>1.242000e+03</td>\n",
       "      <td>1.400000e+02</td>\n",
       "      <td>1.050000e+02</td>\n",
       "      <td>2.550000e+02</td>\n",
       "      <td>2.050000e+02</td>\n",
       "      <td>1.500000e+01</td>\n",
       "    </tr>\n",
       "    <tr>\n",
       "      <td>50%</td>\n",
       "      <td>275839.000000</td>\n",
       "      <td>31.000000</td>\n",
       "      <td>6.900000e+01</td>\n",
       "      <td>170.000000</td>\n",
       "      <td>2.900000e+02</td>\n",
       "      <td>5.950000e+02</td>\n",
       "      <td>1.930000e+02</td>\n",
       "      <td>1.550000e+03</td>\n",
       "      <td>2.940000e+02</td>\n",
       "      <td>7.100000e+01</td>\n",
       "      <td>1.380000e+03</td>\n",
       "      <td>1.950000e+02</td>\n",
       "      <td>1.450000e+02</td>\n",
       "      <td>3.450000e+02</td>\n",
       "      <td>2.750000e+02</td>\n",
       "      <td>2.700000e+01</td>\n",
       "    </tr>\n",
       "    <tr>\n",
       "      <td>75%</td>\n",
       "      <td>473188.000000</td>\n",
       "      <td>37.000000</td>\n",
       "      <td>7.200000e+01</td>\n",
       "      <td>192.000000</td>\n",
       "      <td>3.920000e+02</td>\n",
       "      <td>6.940000e+02</td>\n",
       "      <td>2.620000e+02</td>\n",
       "      <td>1.809000e+03</td>\n",
       "      <td>3.360000e+02</td>\n",
       "      <td>8.400000e+01</td>\n",
       "      <td>1.560000e+03</td>\n",
       "      <td>2.350000e+02</td>\n",
       "      <td>1.850000e+02</td>\n",
       "      <td>4.150000e+02</td>\n",
       "      <td>3.350000e+02</td>\n",
       "      <td>3.900000e+01</td>\n",
       "    </tr>\n",
       "    <tr>\n",
       "      <td>max</td>\n",
       "      <td>633083.000000</td>\n",
       "      <td>125.000000</td>\n",
       "      <td>8.388607e+06</td>\n",
       "      <td>20175.000000</td>\n",
       "      <td>8.388607e+06</td>\n",
       "      <td>8.388607e+06</td>\n",
       "      <td>8.388607e+06</td>\n",
       "      <td>8.388607e+06</td>\n",
       "      <td>8.388607e+06</td>\n",
       "      <td>8.388607e+06</td>\n",
       "      <td>8.388607e+06</td>\n",
       "      <td>8.388607e+06</td>\n",
       "      <td>8.388607e+06</td>\n",
       "      <td>8.388607e+06</td>\n",
       "      <td>8.388607e+06</td>\n",
       "      <td>2.147484e+09</td>\n",
       "    </tr>\n",
       "  </tbody>\n",
       "</table>\n",
       "</div>"
      ],
      "text/plain": [
       "          athlete_id            age        height         weight  \\\n",
       "count  423003.000000  331110.000000  1.598690e+05  229890.000000   \n",
       "mean   292748.166538      32.516750  1.206217e+02     170.896137   \n",
       "std    184969.660327       7.730671  2.097995e+04      58.379799   \n",
       "min        82.000000      13.000000  0.000000e+00       1.000000   \n",
       "25%    135091.500000      27.000000  6.600000e+01     145.000000   \n",
       "50%    275839.000000      31.000000  6.900000e+01     170.000000   \n",
       "75%    473188.000000      37.000000  7.200000e+01     192.000000   \n",
       "max    633083.000000     125.000000  8.388607e+06   20175.000000   \n",
       "\n",
       "               fran         helen         grace      filthy50      fgonebad  \\\n",
       "count  5.542600e+04  3.027900e+04  4.074500e+04  1.935900e+04  2.973800e+04   \n",
       "mean   9.886691e+02  1.207950e+03  5.766025e+02  2.127863e+03  1.472252e+03   \n",
       "std    7.200430e+04  6.824091e+04  4.891145e+04  6.055021e+04  9.762688e+04   \n",
       "min    1.000000e+00  1.000000e+00 -6.000000e+01  1.000000e+00  0.000000e+00   \n",
       "25%    2.150000e+02  5.250000e+02  1.490000e+02  1.308000e+03  2.400000e+02   \n",
       "50%    2.900000e+02  5.950000e+02  1.930000e+02  1.550000e+03  2.940000e+02   \n",
       "75%    3.920000e+02  6.940000e+02  2.620000e+02  1.809000e+03  3.360000e+02   \n",
       "max    8.388607e+06  8.388607e+06  8.388607e+06  8.388607e+06  8.388607e+06   \n",
       "\n",
       "             run400         run5k         candj        snatch      deadlift  \\\n",
       "count  2.224600e+04  3.609700e+04  1.044350e+05  9.728000e+04  1.153230e+05   \n",
       "mean   5.241279e+02  3.411464e+03  2.709107e+02  2.424957e+02  6.970503e+02   \n",
       "std    5.628804e+04  1.251980e+05  2.596882e+04  2.708942e+04  5.523235e+04   \n",
       "min    1.000000e+00  1.000000e+00 -4.500000e+01  0.000000e+00 -5.000000e+02   \n",
       "25%    6.200000e+01  1.242000e+03  1.400000e+02  1.050000e+02  2.550000e+02   \n",
       "50%    7.100000e+01  1.380000e+03  1.950000e+02  1.450000e+02  3.450000e+02   \n",
       "75%    8.400000e+01  1.560000e+03  2.350000e+02  1.850000e+02  4.150000e+02   \n",
       "max    8.388607e+06  8.388607e+06  8.388607e+06  8.388607e+06  8.388607e+06   \n",
       "\n",
       "             backsq       pullups  \n",
       "count  1.105170e+05  5.060800e+04  \n",
       "mean   5.852109e+02  4.269613e+04  \n",
       "std    5.052976e+04  9.546078e+06  \n",
       "min   -7.000000e+00 -6.000000e+00  \n",
       "25%    2.050000e+02  1.500000e+01  \n",
       "50%    2.750000e+02  2.700000e+01  \n",
       "75%    3.350000e+02  3.900000e+01  \n",
       "max    8.388607e+06  2.147484e+09  "
      ]
     },
     "execution_count": 7,
     "metadata": {},
     "output_type": "execute_result"
    }
   ],
   "source": [
    "#Generate descriptive statistics.\n",
    "data.describe()"
   ]
  },
  {
   "cell_type": "markdown",
   "metadata": {
    "colab_type": "text",
    "id": "cNlUUTDOAK7F"
   },
   "source": [
    "#### Question 1.2\n",
    "Are the any missing values?  A simple strategy would be to remove rows with missing values. This can however reduce the size of the dataset. Another technique is to imput missing values with a sensible value like the mean.\n",
    "\n",
    "For more on how to deal with missing values, see this blog entry: [How to Handle Missing Data with Python](https://machinelearningmastery.com/handle-missing-data-python/)."
   ]
  },
  {
   "cell_type": "code",
   "execution_count": 9,
   "metadata": {},
   "outputs": [
    {
     "name": "stdout",
     "output_type": "stream",
     "text": [
      "athlete_id         3\n",
      "name           91896\n",
      "region        171744\n",
      "team          267846\n",
      "affiliate     181090\n",
      "gender         91896\n",
      "age            91896\n",
      "height        263158\n",
      "weight        193116\n",
      "fran          367580\n",
      "helen         392727\n",
      "grace         382261\n",
      "filthy50      403647\n",
      "fgonebad      396301\n",
      "run400        400760\n",
      "run5k         386909\n",
      "candj         321954\n",
      "snatch        329038\n",
      "deadlift      311368\n",
      "backsq        315996\n",
      "pullups       375780\n",
      "dtype: int64\n",
      "(423006, 21)\n"
     ]
    }
   ],
   "source": [
    "#Mark 0 values to NaN and check sum missing values\n",
    "dataMissing = data[['athlete_id','name', 'region', 'team', 'affiliate', 'gender','age','height','weight','fran','helen','grace','filthy50','fgonebad','run400','run5k','candj','snatch','deadlift','backsq','pullups']] = data[['athlete_id','name', 'region', 'team', 'affiliate', 'gender','age','height','weight','fran','helen','grace','filthy50','fgonebad','run400','run5k','candj','snatch','deadlift','backsq','pullups']].replace(0, np.NaN)\n",
    "\n",
    "#Count the number of NaN values in each column\n",
    "print(dataMissing.isnull().sum())\n",
    "\n",
    "#Check number of rows and colums\n",
    "print(dataMissing.shape)"
   ]
  },
  {
   "cell_type": "code",
   "execution_count": 11,
   "metadata": {},
   "outputs": [
    {
     "name": "stdout",
     "output_type": "stream",
     "text": [
      "(1488, 21)\n"
     ]
    }
   ],
   "source": [
    "#Drop rows with missing values\n",
    "dataDrop = dataMissing.dropna(inplace=True)\n",
    "\n",
    "#Summarize the number of rows and columns in the dataset\n",
    "print(dataMissing.shape)"
   ]
  },
  {
   "cell_type": "markdown",
   "metadata": {
    "colab_type": "text",
    "id": "mrGe0lq8AK7g"
   },
   "source": [
    "### Question 2\n",
    "\n",
    "Study the `height` column. What distribution does the data follow? \n",
    "Hint: Use a histogram or density plot to visualise the data."
   ]
  },
  {
   "cell_type": "code",
   "execution_count": 13,
   "metadata": {},
   "outputs": [
    {
     "data": {
      "text/plain": [
       "count    1.598480e+05\n",
       "mean     1.206375e+02\n",
       "std      2.098133e+04\n",
       "min      1.000000e+00\n",
       "25%      6.600000e+01\n",
       "50%      6.900000e+01\n",
       "75%      7.200000e+01\n",
       "max      8.388607e+06\n",
       "Name: height, dtype: float64"
      ]
     },
     "execution_count": 13,
     "metadata": {},
     "output_type": "execute_result"
    }
   ],
   "source": [
    "#Check summarized values of 'height'\n",
    "data['height'].describe()"
   ]
  },
  {
   "cell_type": "code",
   "execution_count": 17,
   "metadata": {},
   "outputs": [
    {
     "data": {
      "text/plain": [
       "count    159847.000000\n",
       "mean         68.159309\n",
       "std          21.477882\n",
       "min           1.000000\n",
       "25%          66.000000\n",
       "50%          69.000000\n",
       "75%          72.000000\n",
       "max        7087.000000\n",
       "Name: height, dtype: float64"
      ]
     },
     "execution_count": 17,
     "metadata": {},
     "output_type": "execute_result"
    }
   ],
   "source": [
    "#Clean height data by replacing 8388607 with NaN\n",
    "#Throws off the height summarized values\n",
    "dataHeight = data['height'] = data['height'].replace(8388607, np.NaN)\n",
    "                                   \n",
    "#Check for new summarized values\n",
    "dataHeight.describe()"
   ]
  },
  {
   "cell_type": "markdown",
   "metadata": {
    "colab_type": "text",
    "id": "9CWceB2gAK70"
   },
   "source": [
    "### Question 3\n",
    "What is the average height?"
   ]
  },
  {
   "cell_type": "code",
   "execution_count": 18,
   "metadata": {
    "colab": {},
    "colab_type": "code",
    "id": "GSzqNCn4AK77"
   },
   "outputs": [
    {
     "data": {
      "text/plain": [
       "68.15930858883807"
      ]
     },
     "execution_count": 18,
     "metadata": {},
     "output_type": "execute_result"
    }
   ],
   "source": [
    "#Get average of height\n",
    "dataHeight.mean()"
   ]
  },
  {
   "cell_type": "code",
   "execution_count": 20,
   "metadata": {},
   "outputs": [],
   "source": [
    "#Drop rows with text\n",
    "dataNew = data.drop(columns=['eat', 'train', 'background', 'experience', 'schedule', 'howlong', 'retrieved_datetime'])"
   ]
  },
  {
   "cell_type": "markdown",
   "metadata": {
    "colab_type": "text",
    "id": "519vK1kjAK8O"
   },
   "source": [
    "### Question 4\n",
    "\n",
    "Use simple random sampling to sample from the dataset. Choose a sample of 20000."
   ]
  },
  {
   "cell_type": "code",
   "execution_count": 26,
   "metadata": {},
   "outputs": [
    {
     "data": {
      "text/html": [
       "<div>\n",
       "<style scoped>\n",
       "    .dataframe tbody tr th:only-of-type {\n",
       "        vertical-align: middle;\n",
       "    }\n",
       "\n",
       "    .dataframe tbody tr th {\n",
       "        vertical-align: top;\n",
       "    }\n",
       "\n",
       "    .dataframe thead th {\n",
       "        text-align: right;\n",
       "    }\n",
       "</style>\n",
       "<table border=\"1\" class=\"dataframe\">\n",
       "  <thead>\n",
       "    <tr style=\"text-align: right;\">\n",
       "      <th></th>\n",
       "      <th>athlete_id</th>\n",
       "      <th>age</th>\n",
       "      <th>height</th>\n",
       "      <th>weight</th>\n",
       "      <th>fran</th>\n",
       "      <th>helen</th>\n",
       "      <th>grace</th>\n",
       "      <th>filthy50</th>\n",
       "      <th>fgonebad</th>\n",
       "      <th>run400</th>\n",
       "      <th>run5k</th>\n",
       "      <th>candj</th>\n",
       "      <th>snatch</th>\n",
       "      <th>deadlift</th>\n",
       "      <th>backsq</th>\n",
       "      <th>pullups</th>\n",
       "    </tr>\n",
       "  </thead>\n",
       "  <tbody>\n",
       "    <tr>\n",
       "      <td>count</td>\n",
       "      <td>20000.000000</td>\n",
       "      <td>15642.000000</td>\n",
       "      <td>7595.000000</td>\n",
       "      <td>10929.000000</td>\n",
       "      <td>2596.000000</td>\n",
       "      <td>1482.000000</td>\n",
       "      <td>1912.000000</td>\n",
       "      <td>942.000000</td>\n",
       "      <td>1259.000000</td>\n",
       "      <td>1060.000000</td>\n",
       "      <td>1744.000000</td>\n",
       "      <td>4.760000e+03</td>\n",
       "      <td>4.457000e+03</td>\n",
       "      <td>5.271000e+03</td>\n",
       "      <td>5.068000e+03</td>\n",
       "      <td>2272.000000</td>\n",
       "    </tr>\n",
       "    <tr>\n",
       "      <td>mean</td>\n",
       "      <td>292069.809350</td>\n",
       "      <td>32.501343</td>\n",
       "      <td>68.066886</td>\n",
       "      <td>170.329307</td>\n",
       "      <td>335.780817</td>\n",
       "      <td>666.481107</td>\n",
       "      <td>234.716527</td>\n",
       "      <td>1617.076433</td>\n",
       "      <td>299.776807</td>\n",
       "      <td>130.016038</td>\n",
       "      <td>1449.222477</td>\n",
       "      <td>1.956724e+03</td>\n",
       "      <td>2.031296e+03</td>\n",
       "      <td>1.935402e+03</td>\n",
       "      <td>1.933963e+03</td>\n",
       "      <td>73.503081</td>\n",
       "    </tr>\n",
       "    <tr>\n",
       "      <td>std</td>\n",
       "      <td>185111.932168</td>\n",
       "      <td>7.710578</td>\n",
       "      <td>10.911621</td>\n",
       "      <td>34.415191</td>\n",
       "      <td>448.108076</td>\n",
       "      <td>1291.231948</td>\n",
       "      <td>255.485830</td>\n",
       "      <td>493.753765</td>\n",
       "      <td>70.664337</td>\n",
       "      <td>416.907150</td>\n",
       "      <td>537.940258</td>\n",
       "      <td>1.215840e+05</td>\n",
       "      <td>1.256495e+05</td>\n",
       "      <td>1.155382e+05</td>\n",
       "      <td>1.178304e+05</td>\n",
       "      <td>2097.492699</td>\n",
       "    </tr>\n",
       "    <tr>\n",
       "      <td>min</td>\n",
       "      <td>1620.000000</td>\n",
       "      <td>14.000000</td>\n",
       "      <td>1.000000</td>\n",
       "      <td>1.000000</td>\n",
       "      <td>72.000000</td>\n",
       "      <td>201.000000</td>\n",
       "      <td>62.000000</td>\n",
       "      <td>128.000000</td>\n",
       "      <td>1.000000</td>\n",
       "      <td>33.000000</td>\n",
       "      <td>300.000000</td>\n",
       "      <td>1.000000e+00</td>\n",
       "      <td>1.000000e+00</td>\n",
       "      <td>2.000000e+00</td>\n",
       "      <td>1.000000e+00</td>\n",
       "      <td>-3.000000</td>\n",
       "    </tr>\n",
       "    <tr>\n",
       "      <td>25%</td>\n",
       "      <td>133869.500000</td>\n",
       "      <td>27.000000</td>\n",
       "      <td>66.000000</td>\n",
       "      <td>145.000000</td>\n",
       "      <td>213.000000</td>\n",
       "      <td>527.250000</td>\n",
       "      <td>149.000000</td>\n",
       "      <td>1295.750000</td>\n",
       "      <td>258.000000</td>\n",
       "      <td>63.000000</td>\n",
       "      <td>1259.000000</td>\n",
       "      <td>1.450000e+02</td>\n",
       "      <td>1.150000e+02</td>\n",
       "      <td>2.650000e+02</td>\n",
       "      <td>2.100000e+02</td>\n",
       "      <td>18.000000</td>\n",
       "    </tr>\n",
       "    <tr>\n",
       "      <td>50%</td>\n",
       "      <td>275310.000000</td>\n",
       "      <td>31.000000</td>\n",
       "      <td>69.000000</td>\n",
       "      <td>170.000000</td>\n",
       "      <td>286.000000</td>\n",
       "      <td>597.500000</td>\n",
       "      <td>191.000000</td>\n",
       "      <td>1555.500000</td>\n",
       "      <td>301.000000</td>\n",
       "      <td>71.000000</td>\n",
       "      <td>1373.000000</td>\n",
       "      <td>1.950000e+02</td>\n",
       "      <td>1.450000e+02</td>\n",
       "      <td>3.500000e+02</td>\n",
       "      <td>2.750000e+02</td>\n",
       "      <td>29.000000</td>\n",
       "    </tr>\n",
       "    <tr>\n",
       "      <td>75%</td>\n",
       "      <td>472365.500000</td>\n",
       "      <td>37.000000</td>\n",
       "      <td>71.000000</td>\n",
       "      <td>192.000000</td>\n",
       "      <td>394.250000</td>\n",
       "      <td>697.000000</td>\n",
       "      <td>263.000000</td>\n",
       "      <td>1806.750000</td>\n",
       "      <td>340.000000</td>\n",
       "      <td>86.000000</td>\n",
       "      <td>1560.000000</td>\n",
       "      <td>2.350000e+02</td>\n",
       "      <td>1.830000e+02</td>\n",
       "      <td>4.150000e+02</td>\n",
       "      <td>3.350000e+02</td>\n",
       "      <td>40.000000</td>\n",
       "    </tr>\n",
       "    <tr>\n",
       "      <td>max</td>\n",
       "      <td>633083.000000</td>\n",
       "      <td>115.000000</td>\n",
       "      <td>748.000000</td>\n",
       "      <td>708.000000</td>\n",
       "      <td>19920.000000</td>\n",
       "      <td>49500.000000</td>\n",
       "      <td>5999.000000</td>\n",
       "      <td>6009.000000</td>\n",
       "      <td>890.000000</td>\n",
       "      <td>4200.000000</td>\n",
       "      <td>14400.000000</td>\n",
       "      <td>8.388607e+06</td>\n",
       "      <td>8.388607e+06</td>\n",
       "      <td>8.388607e+06</td>\n",
       "      <td>8.388607e+06</td>\n",
       "      <td>100000.000000</td>\n",
       "    </tr>\n",
       "  </tbody>\n",
       "</table>\n",
       "</div>"
      ],
      "text/plain": [
       "          athlete_id           age       height        weight          fran  \\\n",
       "count   20000.000000  15642.000000  7595.000000  10929.000000   2596.000000   \n",
       "mean   292069.809350     32.501343    68.066886    170.329307    335.780817   \n",
       "std    185111.932168      7.710578    10.911621     34.415191    448.108076   \n",
       "min      1620.000000     14.000000     1.000000      1.000000     72.000000   \n",
       "25%    133869.500000     27.000000    66.000000    145.000000    213.000000   \n",
       "50%    275310.000000     31.000000    69.000000    170.000000    286.000000   \n",
       "75%    472365.500000     37.000000    71.000000    192.000000    394.250000   \n",
       "max    633083.000000    115.000000   748.000000    708.000000  19920.000000   \n",
       "\n",
       "              helen        grace     filthy50     fgonebad       run400  \\\n",
       "count   1482.000000  1912.000000   942.000000  1259.000000  1060.000000   \n",
       "mean     666.481107   234.716527  1617.076433   299.776807   130.016038   \n",
       "std     1291.231948   255.485830   493.753765    70.664337   416.907150   \n",
       "min      201.000000    62.000000   128.000000     1.000000    33.000000   \n",
       "25%      527.250000   149.000000  1295.750000   258.000000    63.000000   \n",
       "50%      597.500000   191.000000  1555.500000   301.000000    71.000000   \n",
       "75%      697.000000   263.000000  1806.750000   340.000000    86.000000   \n",
       "max    49500.000000  5999.000000  6009.000000   890.000000  4200.000000   \n",
       "\n",
       "              run5k         candj        snatch      deadlift        backsq  \\\n",
       "count   1744.000000  4.760000e+03  4.457000e+03  5.271000e+03  5.068000e+03   \n",
       "mean    1449.222477  1.956724e+03  2.031296e+03  1.935402e+03  1.933963e+03   \n",
       "std      537.940258  1.215840e+05  1.256495e+05  1.155382e+05  1.178304e+05   \n",
       "min      300.000000  1.000000e+00  1.000000e+00  2.000000e+00  1.000000e+00   \n",
       "25%     1259.000000  1.450000e+02  1.150000e+02  2.650000e+02  2.100000e+02   \n",
       "50%     1373.000000  1.950000e+02  1.450000e+02  3.500000e+02  2.750000e+02   \n",
       "75%     1560.000000  2.350000e+02  1.830000e+02  4.150000e+02  3.350000e+02   \n",
       "max    14400.000000  8.388607e+06  8.388607e+06  8.388607e+06  8.388607e+06   \n",
       "\n",
       "             pullups  \n",
       "count    2272.000000  \n",
       "mean       73.503081  \n",
       "std      2097.492699  \n",
       "min        -3.000000  \n",
       "25%        18.000000  \n",
       "50%        29.000000  \n",
       "75%        40.000000  \n",
       "max    100000.000000  "
      ]
     },
     "execution_count": 26,
     "metadata": {},
     "output_type": "execute_result"
    }
   ],
   "source": [
    "#Sample data randomly using 20000 sample size\n",
    "dataRandom = dataNew.sample(20000)\n",
    "dataRandom.describe()"
   ]
  },
  {
   "cell_type": "code",
   "execution_count": 27,
   "metadata": {},
   "outputs": [
    {
     "data": {
      "text/plain": [
       "(20000, 21)"
      ]
     },
     "execution_count": 27,
     "metadata": {},
     "output_type": "execute_result"
    }
   ],
   "source": [
    "dataRandom.shape"
   ]
  },
  {
   "cell_type": "markdown",
   "metadata": {
    "colab_type": "text",
    "id": "vNY59IIfAK8g"
   },
   "source": [
    "### Question 4\n",
    "\n",
    "Use stratified sampling to sample from the dataset. Choose a sample of 20000."
   ]
  },
  {
   "cell_type": "code",
   "execution_count": 28,
   "metadata": {
    "colab": {},
    "colab_type": "code",
    "id": "jC35zNLWAK8k"
   },
   "outputs": [
    {
     "data": {
      "text/html": [
       "<div>\n",
       "<style scoped>\n",
       "    .dataframe tbody tr th:only-of-type {\n",
       "        vertical-align: middle;\n",
       "    }\n",
       "\n",
       "    .dataframe tbody tr th {\n",
       "        vertical-align: top;\n",
       "    }\n",
       "\n",
       "    .dataframe thead th {\n",
       "        text-align: right;\n",
       "    }\n",
       "</style>\n",
       "<table border=\"1\" class=\"dataframe\">\n",
       "  <thead>\n",
       "    <tr style=\"text-align: right;\">\n",
       "      <th></th>\n",
       "      <th>athlete_id</th>\n",
       "      <th>age</th>\n",
       "      <th>height</th>\n",
       "      <th>weight</th>\n",
       "      <th>fran</th>\n",
       "      <th>helen</th>\n",
       "      <th>grace</th>\n",
       "      <th>filthy50</th>\n",
       "      <th>fgonebad</th>\n",
       "      <th>run400</th>\n",
       "      <th>run5k</th>\n",
       "      <th>candj</th>\n",
       "      <th>snatch</th>\n",
       "      <th>deadlift</th>\n",
       "      <th>backsq</th>\n",
       "      <th>pullups</th>\n",
       "    </tr>\n",
       "  </thead>\n",
       "  <tbody>\n",
       "    <tr>\n",
       "      <td>count</td>\n",
       "      <td>20001.000000</td>\n",
       "      <td>20001.00000</td>\n",
       "      <td>9611.000000</td>\n",
       "      <td>13722.000000</td>\n",
       "      <td>3.280000e+03</td>\n",
       "      <td>1.835000e+03</td>\n",
       "      <td>2441.000000</td>\n",
       "      <td>1.161000e+03</td>\n",
       "      <td>1578.000000</td>\n",
       "      <td>1305.000000</td>\n",
       "      <td>2.165000e+03</td>\n",
       "      <td>6045.000000</td>\n",
       "      <td>5610.000000</td>\n",
       "      <td>6663.000000</td>\n",
       "      <td>6361.000000</td>\n",
       "      <td>2778.000000</td>\n",
       "    </tr>\n",
       "    <tr>\n",
       "      <td>mean</td>\n",
       "      <td>309943.304835</td>\n",
       "      <td>32.60807</td>\n",
       "      <td>68.235772</td>\n",
       "      <td>170.547952</td>\n",
       "      <td>2.879962e+03</td>\n",
       "      <td>5.193898e+03</td>\n",
       "      <td>227.184760</td>\n",
       "      <td>8.838133e+03</td>\n",
       "      <td>300.551331</td>\n",
       "      <td>122.908046</td>\n",
       "      <td>9.392471e+03</td>\n",
       "      <td>193.834409</td>\n",
       "      <td>148.483066</td>\n",
       "      <td>343.067237</td>\n",
       "      <td>278.538909</td>\n",
       "      <td>29.376170</td>\n",
       "    </tr>\n",
       "    <tr>\n",
       "      <td>std</td>\n",
       "      <td>194747.949226</td>\n",
       "      <td>7.72333</td>\n",
       "      <td>13.601072</td>\n",
       "      <td>36.706101</td>\n",
       "      <td>1.464659e+05</td>\n",
       "      <td>1.958122e+05</td>\n",
       "      <td>184.248002</td>\n",
       "      <td>2.461455e+05</td>\n",
       "      <td>80.936107</td>\n",
       "      <td>382.309124</td>\n",
       "      <td>2.549408e+05</td>\n",
       "      <td>66.665293</td>\n",
       "      <td>51.910456</td>\n",
       "      <td>101.250782</td>\n",
       "      <td>105.684096</td>\n",
       "      <td>20.447672</td>\n",
       "    </tr>\n",
       "    <tr>\n",
       "      <td>min</td>\n",
       "      <td>1642.000000</td>\n",
       "      <td>14.00000</td>\n",
       "      <td>1.000000</td>\n",
       "      <td>1.000000</td>\n",
       "      <td>4.000000e+00</td>\n",
       "      <td>1.000000e+00</td>\n",
       "      <td>1.000000</td>\n",
       "      <td>1.000000e+00</td>\n",
       "      <td>1.000000</td>\n",
       "      <td>2.000000</td>\n",
       "      <td>6.000000e+01</td>\n",
       "      <td>1.000000</td>\n",
       "      <td>1.000000</td>\n",
       "      <td>1.000000</td>\n",
       "      <td>1.000000</td>\n",
       "      <td>-3.000000</td>\n",
       "    </tr>\n",
       "    <tr>\n",
       "      <td>25%</td>\n",
       "      <td>141239.000000</td>\n",
       "      <td>27.00000</td>\n",
       "      <td>66.000000</td>\n",
       "      <td>145.000000</td>\n",
       "      <td>2.150000e+02</td>\n",
       "      <td>5.250000e+02</td>\n",
       "      <td>150.000000</td>\n",
       "      <td>1.310000e+03</td>\n",
       "      <td>256.000000</td>\n",
       "      <td>63.000000</td>\n",
       "      <td>1.235000e+03</td>\n",
       "      <td>145.000000</td>\n",
       "      <td>110.000000</td>\n",
       "      <td>265.000000</td>\n",
       "      <td>209.000000</td>\n",
       "      <td>19.000000</td>\n",
       "    </tr>\n",
       "    <tr>\n",
       "      <td>50%</td>\n",
       "      <td>274411.000000</td>\n",
       "      <td>32.00000</td>\n",
       "      <td>69.000000</td>\n",
       "      <td>171.000000</td>\n",
       "      <td>2.930000e+02</td>\n",
       "      <td>5.960000e+02</td>\n",
       "      <td>195.000000</td>\n",
       "      <td>1.540000e+03</td>\n",
       "      <td>301.000000</td>\n",
       "      <td>71.000000</td>\n",
       "      <td>1.378000e+03</td>\n",
       "      <td>195.000000</td>\n",
       "      <td>145.000000</td>\n",
       "      <td>345.000000</td>\n",
       "      <td>275.000000</td>\n",
       "      <td>29.000000</td>\n",
       "    </tr>\n",
       "    <tr>\n",
       "      <td>75%</td>\n",
       "      <td>508374.000000</td>\n",
       "      <td>37.00000</td>\n",
       "      <td>71.000000</td>\n",
       "      <td>192.000000</td>\n",
       "      <td>3.900000e+02</td>\n",
       "      <td>6.965000e+02</td>\n",
       "      <td>265.000000</td>\n",
       "      <td>1.815000e+03</td>\n",
       "      <td>340.000000</td>\n",
       "      <td>85.000000</td>\n",
       "      <td>1.560000e+03</td>\n",
       "      <td>235.000000</td>\n",
       "      <td>185.000000</td>\n",
       "      <td>415.000000</td>\n",
       "      <td>335.000000</td>\n",
       "      <td>40.000000</td>\n",
       "    </tr>\n",
       "    <tr>\n",
       "      <td>max</td>\n",
       "      <td>629963.000000</td>\n",
       "      <td>56.00000</td>\n",
       "      <td>728.000000</td>\n",
       "      <td>1750.000000</td>\n",
       "      <td>8.388607e+06</td>\n",
       "      <td>8.388607e+06</td>\n",
       "      <td>4697.000000</td>\n",
       "      <td>8.388607e+06</td>\n",
       "      <td>1109.000000</td>\n",
       "      <td>4140.000000</td>\n",
       "      <td>8.388607e+06</td>\n",
       "      <td>2245.000000</td>\n",
       "      <td>1323.000000</td>\n",
       "      <td>1764.000000</td>\n",
       "      <td>4010.000000</td>\n",
       "      <td>666.000000</td>\n",
       "    </tr>\n",
       "  </tbody>\n",
       "</table>\n",
       "</div>"
      ],
      "text/plain": [
       "          athlete_id          age       height        weight          fran  \\\n",
       "count   20001.000000  20001.00000  9611.000000  13722.000000  3.280000e+03   \n",
       "mean   309943.304835     32.60807    68.235772    170.547952  2.879962e+03   \n",
       "std    194747.949226      7.72333    13.601072     36.706101  1.464659e+05   \n",
       "min      1642.000000     14.00000     1.000000      1.000000  4.000000e+00   \n",
       "25%    141239.000000     27.00000    66.000000    145.000000  2.150000e+02   \n",
       "50%    274411.000000     32.00000    69.000000    171.000000  2.930000e+02   \n",
       "75%    508374.000000     37.00000    71.000000    192.000000  3.900000e+02   \n",
       "max    629963.000000     56.00000   728.000000   1750.000000  8.388607e+06   \n",
       "\n",
       "              helen        grace      filthy50     fgonebad       run400  \\\n",
       "count  1.835000e+03  2441.000000  1.161000e+03  1578.000000  1305.000000   \n",
       "mean   5.193898e+03   227.184760  8.838133e+03   300.551331   122.908046   \n",
       "std    1.958122e+05   184.248002  2.461455e+05    80.936107   382.309124   \n",
       "min    1.000000e+00     1.000000  1.000000e+00     1.000000     2.000000   \n",
       "25%    5.250000e+02   150.000000  1.310000e+03   256.000000    63.000000   \n",
       "50%    5.960000e+02   195.000000  1.540000e+03   301.000000    71.000000   \n",
       "75%    6.965000e+02   265.000000  1.815000e+03   340.000000    85.000000   \n",
       "max    8.388607e+06  4697.000000  8.388607e+06  1109.000000  4140.000000   \n",
       "\n",
       "              run5k        candj       snatch     deadlift       backsq  \\\n",
       "count  2.165000e+03  6045.000000  5610.000000  6663.000000  6361.000000   \n",
       "mean   9.392471e+03   193.834409   148.483066   343.067237   278.538909   \n",
       "std    2.549408e+05    66.665293    51.910456   101.250782   105.684096   \n",
       "min    6.000000e+01     1.000000     1.000000     1.000000     1.000000   \n",
       "25%    1.235000e+03   145.000000   110.000000   265.000000   209.000000   \n",
       "50%    1.378000e+03   195.000000   145.000000   345.000000   275.000000   \n",
       "75%    1.560000e+03   235.000000   185.000000   415.000000   335.000000   \n",
       "max    8.388607e+06  2245.000000  1323.000000  1764.000000  4010.000000   \n",
       "\n",
       "           pullups  \n",
       "count  2778.000000  \n",
       "mean     29.376170  \n",
       "std      20.447672  \n",
       "min      -3.000000  \n",
       "25%      19.000000  \n",
       "50%      29.000000  \n",
       "75%      40.000000  \n",
       "max     666.000000  "
      ]
     },
     "execution_count": 28,
     "metadata": {},
     "output_type": "execute_result"
    }
   ],
   "source": [
    "#Group data by gender and sample 20000 using stratified sampling\n",
    "dataStratified = dataNew.groupby('gender').apply(lambda x: x.sample(frac=0.060405))\n",
    "dataStratified.describe()"
   ]
  },
  {
   "cell_type": "code",
   "execution_count": null,
   "metadata": {},
   "outputs": [],
   "source": []
  },
  {
   "cell_type": "markdown",
   "metadata": {
    "colab_type": "text",
    "id": "jN1d7dnLAK8w"
   },
   "source": [
    "### Question 5\n",
    "Compare simple random sampling and stratified random sampling. Compare the means generated by the two sampling techniques and discuss your observations below your code."
   ]
  },
  {
   "cell_type": "code",
   "execution_count": null,
   "metadata": {},
   "outputs": [],
   "source": []
  },
  {
   "cell_type": "markdown",
   "metadata": {},
   "source": [
    "athlete_id "
   ]
  },
  {
   "cell_type": "markdown",
   "metadata": {
    "colab_type": "text",
    "id": "GStf2Ah0AK9E"
   },
   "source": [
    "### Question 6 "
   ]
  },
  {
   "cell_type": "markdown",
   "metadata": {
    "colab_type": "text",
    "id": "Lw20bGLVAK9I"
   },
   "source": [
    "In  this question we are going to implement cluster sampling. Data is divided into clusters, if it isn't already divided into clusters, and then we use simple random sampling to select a number of clusters from the sample. From the group of selected clusters, we again use simple random sampling to select random data points. These now form our sample.  \n",
    "\n",
    "Let's implement this procedure using some randomly generated data that we are going to group into clusters."
   ]
  },
  {
   "cell_type": "code",
   "execution_count": null,
   "metadata": {
    "colab": {},
    "colab_type": "code",
    "id": "w9SowrZGAK9M"
   },
   "outputs": [],
   "source": [
    "#n_clusters = 10\n",
    "#data = stats.norm.rvs(loc=0,        # mean 0\n",
    "                      #scale=1,      # variance 1\n",
    "                      #size=100000,  # number of points\n",
    "                      #random_state=None)\n",
    "\n",
    "#data = pd.DataFrame({'var1': data})  # turn list into dataframe with heading var1\n",
    "\n",
    "#cluster = [rnd.randint(0,9) for c in range(100000)] # generate cluster numbers for grouping\n",
    "\n",
    "#n_col = pd.Series(cluster) # turn list into Series object\n",
    "#data['cluster'] = n_col.values\n",
    "#data.head()"
   ]
  },
  {
   "cell_type": "markdown",
   "metadata": {
    "colab_type": "text",
    "id": "WyQAkSpLAK9d"
   },
   "source": [
    "Now that we've generated random data and placed the data into clusters, generate a sample from the *athletes* data using cluster sampling technique."
   ]
  },
  {
   "cell_type": "code",
   "execution_count": null,
   "metadata": {
    "colab": {},
    "colab_type": "code",
    "id": "yJDAt_c2AK9j"
   },
   "outputs": [],
   "source": [
    "# your answers"
   ]
  },
  {
   "cell_type": "markdown",
   "metadata": {
    "colab_type": "text",
    "id": "UmKTSwrTAK9_"
   },
   "source": [
    "<!-- Distribution fitting with scipy exercise given a dataset. Good references about El Nino dataset. I should find a climate dataset.\n",
    "\n",
    "https://stackoverflow.com/questions/6615489/fitting-distributions-goodness-of-fit-p-value-is-it-possible-to-do-this-with/16651524#16651524\n",
    "\n",
    "https://stackoverflow.com/questions/6620471/fitting-empirical-distribution-to-theoretical-ones-with-scipy-python -->"
   ]
  },
  {
   "cell_type": "code",
   "execution_count": null,
   "metadata": {},
   "outputs": [],
   "source": []
  }
 ],
 "metadata": {
  "colab": {
   "name": "dav_15_HLT_assignment.ipynb",
   "provenance": [],
   "version": "0.3.2"
  },
  "kernelspec": {
   "display_name": "Python 3",
   "language": "python",
   "name": "python3"
  },
  "language_info": {
   "codemirror_mode": {
    "name": "ipython",
    "version": 3
   },
   "file_extension": ".py",
   "mimetype": "text/x-python",
   "name": "python",
   "nbconvert_exporter": "python",
   "pygments_lexer": "ipython3",
   "version": "3.7.4"
  }
 },
 "nbformat": 4,
 "nbformat_minor": 1
}
